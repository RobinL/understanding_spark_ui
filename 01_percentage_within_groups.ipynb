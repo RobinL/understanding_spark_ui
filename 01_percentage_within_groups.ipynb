{
 "cells": [
  {
   "cell_type": "markdown",
   "metadata": {},
   "source": [
    "# Calculating percentage of total in Spark\n",
    "\n",
    "See Stackoverflow [here](https://stackoverflow.com/questions/43473334/how-to-calculate-percentage-over-a-dataframe)"
   ]
  },
  {
   "cell_type": "code",
   "execution_count": 1,
   "metadata": {},
   "outputs": [],
   "source": [
    "from pyspark.context import SparkContext, SparkConf\n",
    "from pyspark.sql import SparkSession, Window\n",
    "import pyspark.sql.functions as F\n",
    "\n",
    "conf=SparkConf()\n",
    "\n",
    "\n",
    "sc = SparkContext.getOrCreate(conf=conf)\n",
    "spark = SparkSession(sc)\n"
   ]
  },
  {
   "cell_type": "code",
   "execution_count": 2,
   "metadata": {},
   "outputs": [],
   "source": [
    "## For each group, we want to get percentage of total"
   ]
  },
  {
   "cell_type": "code",
   "execution_count": 3,
   "metadata": {},
   "outputs": [],
   "source": [
    "import numpy as np\n",
    "import pandas as pd\n",
    "\n",
    "num_rows = 1000\n",
    "category = np.random.choice([\"a\", \"b\", \"c\"],num_rows, p=[0.1, 0.3, 0.6])\n",
    "values = np.random.randint(1, 100, num_rows)\n",
    "pd_df = pd.DataFrame({\"cat\": category, \"val\": values})\n"
   ]
  },
  {
   "cell_type": "code",
   "execution_count": 4,
   "metadata": {},
   "outputs": [],
   "source": [
    "df = spark.createDataFrame(pd_df)"
   ]
  },
  {
   "cell_type": "code",
   "execution_count": null,
   "metadata": {},
   "outputs": [],
   "source": []
  },
  {
   "cell_type": "code",
   "execution_count": 5,
   "metadata": {},
   "outputs": [],
   "source": [
    "df.registerTempTable(\"df\")\n",
    "\n",
    "sql = \"\"\"\n",
    "select cat, sum(val)/(select sum(val) from df) as perc\n",
    "from df \n",
    "group by cat\n",
    "\"\"\"\n",
    "\n",
    "spark.sql(sql).write.csv(\"delete/\", mode=\"overwrite\")\n",
    "# spark.sql(sql).show()"
   ]
  },
  {
   "cell_type": "code",
   "execution_count": 5,
   "metadata": {},
   "outputs": [],
   "source": [
    "## Can we re-write this in pyspark\n",
    "\n",
    "val_sum = df.groupBy().agg(F.sum(\"val\"))\n",
    "\n",
    "df_perc = df.select((df[\"val\"]/val_sum.collect()[0][0]).alias(\"perc\"))\n",
    "df_perc.write.csv(\"delete3/\", mode=\"overwrite\")\n"
   ]
  },
  {
   "cell_type": "code",
   "execution_count": 7,
   "metadata": {},
   "outputs": [],
   "source": [
    "df.registerTempTable(\"df\")\n",
    "\n",
    "sql = \"\"\"\n",
    "select val/sum(val) over () as perc\n",
    "from df\n",
    "\n",
    "\"\"\"\n",
    "\n",
    "spark.sql(sql).write.csv(\"delete2/\", mode=\"overwrite\")"
   ]
  },
  {
   "cell_type": "code",
   "execution_count": null,
   "metadata": {},
   "outputs": [],
   "source": []
  }
 ],
 "metadata": {
  "kernelspec": {
   "display_name": "Python 3",
   "language": "python",
   "name": "python3"
  },
  "language_info": {
   "codemirror_mode": {
    "name": "ipython",
    "version": 3
   },
   "file_extension": ".py",
   "mimetype": "text/x-python",
   "name": "python",
   "nbconvert_exporter": "python",
   "pygments_lexer": "ipython3",
   "version": "3.6.9"
  }
 },
 "nbformat": 4,
 "nbformat_minor": 4
}
