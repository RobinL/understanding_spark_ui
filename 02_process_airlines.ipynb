{
 "cells": [
  {
   "cell_type": "code",
   "execution_count": null,
   "metadata": {},
   "outputs": [],
   "source": [
    "from pyspark.context import SparkContext, SparkConf\n",
    "from pyspark.sql import SparkSession, Window\n",
    "import pyspark.sql.functions as F\n",
    "\n",
    "conf=SparkConf()\n",
    "\n",
    "conf.set('spark.sql.join.preferSortMergeJoin', 'true')\n",
    "conf.set('spark.sql.autoBroadcastJoinThreshold', 0)\n",
    "conf.set('spark.driver.memory', '8g')\n",
    "conf.set(\"spark.sql.parquet.binaryAsString\",\"true\")\n",
    "\n",
    "sc = SparkContext.getOrCreate(conf=conf)\n",
    "spark = SparkSession(sc)"
   ]
  },
  {
   "cell_type": "code",
   "execution_count": null,
   "metadata": {},
   "outputs": [],
   "source": [
    "# Data from https://blog.cloudera.com/analyzing-us-flight-data-on-amazon-s3-with-sparklyr-and-apache-spark-2-0/"
   ]
  },
  {
   "cell_type": "code",
   "execution_count": null,
   "metadata": {},
   "outputs": [],
   "source": [
    "flights = spark.read.parquet(\"flights/airlines_parquet\")\n",
    "flights.write.partitionBy(\"year\", \"month\").mode(\"overwrite\").csv(\"flights_paritioned_year_month/\")"
   ]
  },
  {
   "cell_type": "code",
   "execution_count": null,
   "metadata": {},
   "outputs": [],
   "source": [
    "airports = spark.read.csv(\"flights/airports.csv\", header=True)"
   ]
  },
  {
   "cell_type": "code",
   "execution_count": null,
   "metadata": {},
   "outputs": [],
   "source": [
    "flights.registerTempTable(\"flights\")\n",
    "airports.registerTempTable(\"airports\")\n",
    "sql = \"\"\"\n",
    "SELECT flights.carrier, airports.iata, airports.airport as destination\n",
    "FROM flights \n",
    "LEFT JOIN airports\n",
    "on flights.dest = airports.iata\n",
    "\n",
    "\"\"\"\n",
    "spark.sql(sql).write.parquet(\"deletelax\")"
   ]
  },
  {
   "cell_type": "code",
   "execution_count": null,
   "metadata": {},
   "outputs": [],
   "source": []
  }
 ],
 "metadata": {
  "kernelspec": {
   "display_name": "Python 3",
   "language": "python",
   "name": "python3"
  },
  "language_info": {
   "codemirror_mode": {
    "name": "ipython",
    "version": 3
   },
   "file_extension": ".py",
   "mimetype": "text/x-python",
   "name": "python",
   "nbconvert_exporter": "python",
   "pygments_lexer": "ipython3",
   "version": "3.6.9"
  }
 },
 "nbformat": 4,
 "nbformat_minor": 4
}
