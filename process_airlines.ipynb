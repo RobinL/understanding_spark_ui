{
 "cells": [
  {
   "cell_type": "code",
   "execution_count": 1,
   "metadata": {},
   "outputs": [],
   "source": [
    "from pyspark.context import SparkContext, SparkConf\n",
    "from pyspark.sql import SparkSession, Window\n",
    "import pyspark.sql.functions as F\n",
    "\n",
    "conf=SparkConf()\n",
    "\n",
    "conf.set('spark.sql.join.preferSortMergeJoin', 'true')\n",
    "conf.set('spark.sql.autoBroadcastJoinThreshold', 0)\n",
    "conf.set('spark.driver.memory', '8g')\n",
    "conf.set(\"spark.sql.parquet.binaryAsString\",\"true\")\n",
    "\n",
    "sc = SparkContext.getOrCreate(conf=conf)\n",
    "spark = SparkSession(sc)\n"
   ]
  },
  {
   "cell_type": "code",
   "execution_count": 18,
   "metadata": {},
   "outputs": [],
   "source": [
    "flights = spark.read.parquet(\"flights_paritioned_year_month/\").filter(\"origin = 'LAX'\")\n",
    "# flights.write.partitionBy(\"year\", \"month\").parquet(\"flights_paritioned_year_month/\")"
   ]
  },
  {
   "cell_type": "code",
   "execution_count": null,
   "metadata": {},
   "outputs": [],
   "source": []
  },
  {
   "cell_type": "code",
   "execution_count": 20,
   "metadata": {},
   "outputs": [
    {
     "name": "stdout",
     "output_type": "stream",
     "text": [
      "+----+--------------------+----------------+-----+-------+-----------+------------+\n",
      "|iata|             airport|            city|state|country|        lat|        long|\n",
      "+----+--------------------+----------------+-----+-------+-----------+------------+\n",
      "| 00M|            Thigpen |     Bay Springs|   MS|    USA|31.95376472|-89.23450472|\n",
      "| 00R|Livingston Municipal|      Livingston|   TX|    USA|30.68586111|-95.01792778|\n",
      "| 00V|         Meadow Lake|Colorado Springs|   CO|    USA|38.94574889|-104.5698933|\n",
      "| 01G|        Perry-Warsaw|           Perry|   NY|    USA|42.74134667|-78.05208056|\n",
      "+----+--------------------+----------------+-----+-------+-----------+------------+\n",
      "only showing top 4 rows\n",
      "\n"
     ]
    }
   ],
   "source": [
    "airports = spark.read.csv(\"flights/airports.csv\", header=True)"
   ]
  },
  {
   "cell_type": "code",
   "execution_count": 23,
   "metadata": {},
   "outputs": [
    {
     "name": "stdout",
     "output_type": "stream",
     "text": [
      "+-------+----+--------------------+\n",
      "|carrier|iata|         destination|\n",
      "+-------+----+--------------------+\n",
      "|     WN| ABQ|Albuquerque Inter...|\n",
      "|     WN| ABQ|Albuquerque Inter...|\n",
      "|     WN| ABQ|Albuquerque Inter...|\n",
      "|     WN| ABQ|Albuquerque Inter...|\n",
      "|     WN| AUS|Austin-Bergstrom ...|\n",
      "|     WN| BNA|Nashville Interna...|\n",
      "|     WN| BNA|Nashville Interna...|\n",
      "|     WN| BNA|Nashville Interna...|\n",
      "|     WN| BWI|Baltimore-Washing...|\n",
      "|     WN| BWI|Baltimore-Washing...|\n",
      "+-------+----+--------------------+\n",
      "\n"
     ]
    }
   ],
   "source": [
    "flights.registerTempTable(\"flights\")\n",
    "airports.registerTempTable(\"airports\")\n",
    "sql = \"\"\"\n",
    "SELECT flights.carrier, airports.iata, airports.airport as destination\n",
    "FROM flights \n",
    "LEFT JOIN airports\n",
    "on flights.dest = airports.iata\n",
    "\n",
    "\"\"\"\n",
    "spark.sql(sql).write.parquet(\"deletelax\")"
   ]
  },
  {
   "cell_type": "code",
   "execution_count": null,
   "metadata": {},
   "outputs": [],
   "source": []
  }
 ],
 "metadata": {
  "kernelspec": {
   "display_name": "Python 3",
   "language": "python",
   "name": "python3"
  },
  "language_info": {
   "codemirror_mode": {
    "name": "ipython",
    "version": 3
   },
   "file_extension": ".py",
   "mimetype": "text/x-python",
   "name": "python",
   "nbconvert_exporter": "python",
   "pygments_lexer": "ipython3",
   "version": "3.6.9"
  }
 },
 "nbformat": 4,
 "nbformat_minor": 4
}
