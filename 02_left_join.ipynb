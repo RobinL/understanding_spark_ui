{
 "cells": [
  {
   "cell_type": "markdown",
   "metadata": {},
   "source": [
    "# Left join in Spark\n",
    "\n"
   ]
  },
  {
   "cell_type": "code",
   "execution_count": 1,
   "metadata": {},
   "outputs": [],
   "source": [
    "from pyspark.context import SparkContext, SparkConf\n",
    "from pyspark.sql import SparkSession, Window\n",
    "import pyspark.sql.functions as F\n",
    "\n",
    "conf=SparkConf()\n",
    "\n",
    "sc = SparkContext.getOrCreate(conf=conf)\n",
    "spark = SparkSession(sc)\n"
   ]
  },
  {
   "cell_type": "code",
   "execution_count": 2,
   "metadata": {},
   "outputs": [],
   "source": [
    "import numpy as np\n",
    "import pandas as pd\n",
    "\n",
    "cats = [\"a\", \"b\", \"c\"]\n",
    "defs = [f\"The letter {e}\" for e in cats]\n",
    "\n",
    "\n",
    "num_rows = 1000\n",
    "category = np.random.choice(cats,num_rows, p=[0.1, 0.3, 0.6])\n",
    "values = np.random.randint(1, 100, num_rows)\n",
    "pd_df_fact = pd.DataFrame({\"cat\": category, \"val\": values})\n",
    "\n",
    "pd_df_dim = pd.DataFrame({\"cat\": cats, \"def\": defs})\n",
    "\n"
   ]
  },
  {
   "cell_type": "code",
   "execution_count": 3,
   "metadata": {},
   "outputs": [],
   "source": [
    "df_fact = spark.createDataFrame(pd_df_fact)"
   ]
  },
  {
   "cell_type": "code",
   "execution_count": 4,
   "metadata": {},
   "outputs": [],
   "source": [
    "df_dim = spark.createDataFrame(pd_df_dim)"
   ]
  },
  {
   "cell_type": "code",
   "execution_count": 5,
   "metadata": {},
   "outputs": [],
   "source": [
    "df_fact.registerTempTable(\"df_fact\")\n",
    "df_dim.registerTempTable(\"df_dim\")\n",
    "\n",
    "sql = \"\"\"\n",
    "select df_fact.cat, df_dim.def, df_fact.val from\n",
    "df_fact\n",
    "left join df_dim\n",
    "on df_fact.cat = df_dim.cat\n",
    "\"\"\"\n",
    "\n",
    "spark.sql(sql).write.csv(\"delete/\", mode=\"overwrite\")"
   ]
  },
  {
   "cell_type": "code",
   "execution_count": 5,
   "metadata": {},
   "outputs": [],
   "source": [
    "## Can we re-write this in pyspark\n",
    "\n",
    "val_sum = df.groupBy().agg(F.sum(\"val\"))\n",
    "\n",
    "df_perc = df.select((df[\"val\"]/val_sum.collect()[0][0]).alias(\"perc\"))\n",
    "df_perc.write.csv(\"delete3/\", mode=\"overwrite\")\n"
   ]
  },
  {
   "cell_type": "code",
   "execution_count": 7,
   "metadata": {},
   "outputs": [],
   "source": [
    "df.registerTempTable(\"df\")\n",
    "\n",
    "sql = \"\"\"\n",
    "select val/sum(val) over () as perc\n",
    "from df\n",
    "\n",
    "\"\"\"\n",
    "\n",
    "spark.sql(sql).write.csv(\"delete2/\", mode=\"overwrite\")"
   ]
  },
  {
   "cell_type": "code",
   "execution_count": null,
   "metadata": {},
   "outputs": [],
   "source": []
  }
 ],
 "metadata": {
  "kernelspec": {
   "display_name": "Python 3",
   "language": "python",
   "name": "python3"
  },
  "language_info": {
   "codemirror_mode": {
    "name": "ipython",
    "version": 3
   },
   "file_extension": ".py",
   "mimetype": "text/x-python",
   "name": "python",
   "nbconvert_exporter": "python",
   "pygments_lexer": "ipython3",
   "version": "3.6.9"
  }
 },
 "nbformat": 4,
 "nbformat_minor": 4
}
