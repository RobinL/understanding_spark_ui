{
 "cells": [
  {
   "cell_type": "markdown",
   "metadata": {},
   "source": [
    "# Left join in Spark\n",
    "\n"
   ]
  },
  {
   "cell_type": "code",
   "execution_count": 1,
   "metadata": {},
   "outputs": [],
   "source": [
    "from pyspark.context import SparkContext, SparkConf\n",
    "from pyspark.sql import SparkSession, Window\n",
    "import pyspark.sql.functions as F\n",
    "\n",
    "conf=SparkConf()\n",
    "\n",
    "\n",
    "# conf.set('spark.sql.join.preferSortMergeJoin', 'true')\n",
    "conf.set('spark.sql.autoBroadcastJoinThreshold', 0)\n",
    "\n",
    "\n",
    "sc = SparkContext.getOrCreate(conf=conf)\n",
    "spark = SparkSession(sc)\n"
   ]
  },
  {
   "cell_type": "code",
   "execution_count": 2,
   "metadata": {},
   "outputs": [
    {
     "name": "stderr",
     "output_type": "stream",
     "text": [
      "/Users/robinlinacre/anaconda3/lib/python3.6/site-packages/pyarrow/pandas_compat.py:114: FutureWarning: A future version of pandas will default to `skipna=True`. To silence this warning, pass `skipna=True|False` explicitly.\n",
      "  result = infer_dtype(pandas_collection)\n"
     ]
    }
   ],
   "source": [
    "import numpy as np\n",
    "import pandas as pd\n",
    "\n",
    "cats = [\"a\", \"b\", \"c\"]\n",
    "defs = [f\"The letter {e}\" for e in cats]\n",
    "\n",
    "\n",
    "num_rows = 1000\n",
    "category = np.random.choice(cats,num_rows, p=[0.1, 0.3, 0.6])\n",
    "values = np.random.randint(1, 100, num_rows)\n",
    "pd_df_fact = pd.DataFrame({\"cat\": category, \"val\": values})\n",
    "\n",
    "pd_df_fact.to_parquet(\"df_fact.parquet\")\n",
    "\n",
    "pd_df_dim = pd.DataFrame({\"cat\": cats, \"def\": defs})\n",
    "pd_df_dim.to_parquet(\"df_dim.parquet\")\n"
   ]
  },
  {
   "cell_type": "code",
   "execution_count": 7,
   "metadata": {},
   "outputs": [
    {
     "data": {
      "text/html": [
       "<div>\n",
       "<style scoped>\n",
       "    .dataframe tbody tr th:only-of-type {\n",
       "        vertical-align: middle;\n",
       "    }\n",
       "\n",
       "    .dataframe tbody tr th {\n",
       "        vertical-align: top;\n",
       "    }\n",
       "\n",
       "    .dataframe thead th {\n",
       "        text-align: right;\n",
       "    }\n",
       "</style>\n",
       "<table border=\"1\" class=\"dataframe\">\n",
       "  <thead>\n",
       "    <tr style=\"text-align: right;\">\n",
       "      <th></th>\n",
       "      <th>cat</th>\n",
       "      <th>def</th>\n",
       "    </tr>\n",
       "  </thead>\n",
       "  <tbody>\n",
       "    <tr>\n",
       "      <td>0</td>\n",
       "      <td>a</td>\n",
       "      <td>The letter a</td>\n",
       "    </tr>\n",
       "    <tr>\n",
       "      <td>1</td>\n",
       "      <td>b</td>\n",
       "      <td>The letter b</td>\n",
       "    </tr>\n",
       "    <tr>\n",
       "      <td>2</td>\n",
       "      <td>c</td>\n",
       "      <td>The letter c</td>\n",
       "    </tr>\n",
       "  </tbody>\n",
       "</table>\n",
       "</div>"
      ],
      "text/plain": [
       "  cat           def\n",
       "0   a  The letter a\n",
       "1   b  The letter b\n",
       "2   c  The letter c"
      ]
     },
     "execution_count": 7,
     "metadata": {},
     "output_type": "execute_result"
    }
   ],
   "source": [
    "pd_df_dim"
   ]
  },
  {
   "cell_type": "code",
   "execution_count": 3,
   "metadata": {},
   "outputs": [],
   "source": [
    "df_fact = spark.read.parquet(\"df_fact.parquet\")"
   ]
  },
  {
   "cell_type": "code",
   "execution_count": 4,
   "metadata": {},
   "outputs": [],
   "source": [
    "df_dim = spark.read.parquet(\"df_dim.parquet\")"
   ]
  },
  {
   "cell_type": "code",
   "execution_count": 5,
   "metadata": {},
   "outputs": [],
   "source": [
    "df_fact.registerTempTable(\"df_fact\")\n",
    "df_dim.registerTempTable(\"df_dim\")\n",
    "\n",
    "sql = \"\"\"\n",
    "select df_fact.cat, df_fact.val,  df_dim.def from\n",
    "df_fact\n",
    "left join df_dim\n",
    "on df_fact.cat = df_dim.cat\n",
    "\"\"\"\n",
    "\n",
    "spark.sql(sql).write.csv(\"delete/\", mode=\"overwrite\")"
   ]
  },
  {
   "cell_type": "code",
   "execution_count": 8,
   "metadata": {},
   "outputs": [
    {
     "name": "stdout",
     "output_type": "stream",
     "text": [
      "== Parsed Logical Plan ==\n",
      "'Project ['df_fact.cat, 'df_fact.val, 'df_dim.def]\n",
      "+- 'Join LeftOuter, ('df_fact.cat = 'df_dim.cat)\n",
      "   :- 'UnresolvedRelation `df_fact`\n",
      "   +- 'UnresolvedRelation `df_dim`\n",
      "\n",
      "== Analyzed Logical Plan ==\n",
      "cat: string, val: bigint, def: string\n",
      "Project [cat#0, val#1L, def#7]\n",
      "+- Join LeftOuter, (cat#0 = cat#6)\n",
      "   :- SubqueryAlias `df_fact`\n",
      "   :  +- Relation[cat#0,val#1L,__index_level_0__#2L] parquet\n",
      "   +- SubqueryAlias `df_dim`\n",
      "      +- Relation[cat#6,def#7,__index_level_0__#8L] parquet\n",
      "\n",
      "== Optimized Logical Plan ==\n",
      "Project [cat#0, val#1L, def#7]\n",
      "+- Join LeftOuter, (cat#0 = cat#6)\n",
      "   :- Project [cat#0, val#1L]\n",
      "   :  +- Relation[cat#0,val#1L,__index_level_0__#2L] parquet\n",
      "   +- Project [cat#6, def#7]\n",
      "      +- Filter isnotnull(cat#6)\n",
      "         +- Relation[cat#6,def#7,__index_level_0__#8L] parquet\n",
      "\n",
      "== Physical Plan ==\n",
      "*(5) Project [cat#0, val#1L, def#7]\n",
      "+- SortMergeJoin [cat#0], [cat#6], LeftOuter\n",
      "   :- *(2) Sort [cat#0 ASC NULLS FIRST], false, 0\n",
      "   :  +- Exchange hashpartitioning(cat#0, 200)\n",
      "   :     +- *(1) FileScan parquet [cat#0,val#1L] Batched: true, Format: Parquet, Location: InMemoryFileIndex[file:/Users/robinlinacre/Documents/to_delete/understanding_spark_ui/df_fact.par..., PartitionFilters: [], PushedFilters: [], ReadSchema: struct<cat:string,val:bigint>\n",
      "   +- *(4) Sort [cat#6 ASC NULLS FIRST], false, 0\n",
      "      +- Exchange hashpartitioning(cat#6, 200)\n",
      "         +- *(3) Project [cat#6, def#7]\n",
      "            +- *(3) Filter isnotnull(cat#6)\n",
      "               +- *(3) FileScan parquet [cat#6,def#7] Batched: true, Format: Parquet, Location: InMemoryFileIndex[file:/Users/robinlinacre/Documents/to_delete/understanding_spark_ui/df_dim.parq..., PartitionFilters: [], PushedFilters: [IsNotNull(cat)], ReadSchema: struct<cat:string,def:string>\n"
     ]
    }
   ],
   "source": [
    "spark.sql(sql).explain(True)"
   ]
  },
  {
   "cell_type": "code",
   "execution_count": null,
   "metadata": {},
   "outputs": [],
   "source": []
  },
  {
   "cell_type": "code",
   "execution_count": null,
   "metadata": {},
   "outputs": [],
   "source": []
  }
 ],
 "metadata": {
  "kernelspec": {
   "display_name": "Python 3",
   "language": "python",
   "name": "python3"
  },
  "language_info": {
   "codemirror_mode": {
    "name": "ipython",
    "version": 3
   },
   "file_extension": ".py",
   "mimetype": "text/x-python",
   "name": "python",
   "nbconvert_exporter": "python",
   "pygments_lexer": "ipython3",
   "version": "3.6.9"
  }
 },
 "nbformat": 4,
 "nbformat_minor": 4
}
