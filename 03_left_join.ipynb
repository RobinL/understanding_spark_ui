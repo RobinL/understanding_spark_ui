{
 "cells": [
  {
   "cell_type": "markdown",
   "metadata": {},
   "source": [
    "# Left join in Spark\n",
    "\n"
   ]
  },
  {
   "cell_type": "code",
   "execution_count": 1,
   "metadata": {},
   "outputs": [],
   "source": [
    "\n",
    "from pyspark.context import SparkContext, SparkConf\n",
    "from pyspark.sql import SparkSession, Window\n",
    "import pyspark.sql.functions as F\n",
    "\n",
    "conf=SparkConf()\n",
    "\n",
    "conf.set('spark.sql.join.preferSortMergeJoin', 'true')\n",
    "conf.set('spark.sql.autoBroadcastJoinThreshold', 0)\n",
    "conf.set('spark.driver.memory', '8g')\n",
    "conf.set(\"spark.sql.parquet.binaryAsString\",\"true\")\n",
    "# conf.set(\"spark.executor.cores\", \"1\")\n",
    "# conf.set(\"spark.sql.shuffle.partitions\", \"1\") \n",
    "# conf.set(\"spark.sql.files.maxPartitionBytes\", 1024*1024*5)\n",
    "\n",
    "sc = SparkContext.getOrCreate(conf=conf)\n",
    "spark = SparkSession(sc)\n"
   ]
  },
  {
   "cell_type": "code",
   "execution_count": 2,
   "metadata": {},
   "outputs": [
    {
     "data": {
      "text/plain": [
       "'123,534,969'"
      ]
     },
     "execution_count": 2,
     "metadata": {},
     "output_type": "execute_result"
    }
   ],
   "source": [
    "# flights = spark.read.csv(\"flights_paritioned_year_month_csv\", header=True).filter(\"origin = 'LAX'\")\n",
    "flights = spark.read.parquet(\"flights_paritioned_year_month\").filter(\"origin = 'LAX'\")"
   ]
  },
  {
   "cell_type": "code",
   "execution_count": 3,
   "metadata": {},
   "outputs": [
    {
     "data": {
      "text/plain": [
       "3376"
      ]
     },
     "execution_count": 3,
     "metadata": {},
     "output_type": "execute_result"
    }
   ],
   "source": [
    "airports = spark.read.csv(\"flights/airports.csv\", header=True)"
   ]
  },
  {
   "cell_type": "code",
   "execution_count": 4,
   "metadata": {},
   "outputs": [],
   "source": [
    "flights.registerTempTable(\"flights\")\n",
    "airports.registerTempTable(\"airports\")\n",
    "sql = \"\"\"\n",
    "SELECT flights.carrier, airports.iata, airports.airport as destination\n",
    "FROM flights \n",
    "LEFT JOIN airports\n",
    "on flights.dest = airports.iata\n",
    "where flights.origin = 'LAX'\n",
    "\n",
    "\"\"\"\n",
    "df = spark.sql(sql)"
   ]
  },
  {
   "cell_type": "code",
   "execution_count": 5,
   "metadata": {},
   "outputs": [],
   "source": [
    "df.write.mode(\"overwrite\").parquet(\"deletelax\")"
   ]
  },
  {
   "cell_type": "code",
   "execution_count": null,
   "metadata": {},
   "outputs": [],
   "source": []
  },
  {
   "cell_type": "code",
   "execution_count": null,
   "metadata": {},
   "outputs": [],
   "source": []
  }
 ],
 "metadata": {
  "kernelspec": {
   "display_name": "Python 3",
   "language": "python",
   "name": "python3"
  },
  "language_info": {
   "codemirror_mode": {
    "name": "ipython",
    "version": 3
   },
   "file_extension": ".py",
   "mimetype": "text/x-python",
   "name": "python",
   "nbconvert_exporter": "python",
   "pygments_lexer": "ipython3",
   "version": "3.6.9"
  }
 },
 "nbformat": 4,
 "nbformat_minor": 4
}
