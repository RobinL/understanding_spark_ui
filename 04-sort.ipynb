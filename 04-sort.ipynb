{
 "cells": [
  {
   "cell_type": "markdown",
   "metadata": {},
   "source": [
    "# Sort in Spark"
   ]
  },
  {
   "cell_type": "code",
   "execution_count": 1,
   "metadata": {},
   "outputs": [],
   "source": [
    "from pyspark.context import SparkContext, SparkConf\n",
    "from pyspark.sql import SparkSession, Window\n",
    "import pyspark.sql.functions as F"
   ]
  },
  {
   "cell_type": "code",
   "execution_count": 2,
   "metadata": {},
   "outputs": [
    {
     "data": {
      "text/plain": [
       "DataFrame[day: int, dayofweek: int, dep_time: int, crs_dep_time: int, arr_time: int, crs_arr_time: int, carrier: string, flight_num: int, tail_num: int, actual_elapsed_time: int, crs_elapsed_time: int, airtime: int, arrdelay: int, depdelay: int, origin: string, dest: string, distance: int, taxi_in: int, taxi_out: int, cancelled: int, cancellation_code: string, diverted: int, carrier_delay: int, weather_delay: int, nas_delay: int, security_delay: int, late_aircraft_delay: int, year: int, month: int, unique_id: bigint]"
      ]
     },
     "execution_count": 2,
     "metadata": {},
     "output_type": "execute_result"
    }
   ],
   "source": [
    "\n",
    "\n",
    "conf=SparkConf()\n",
    "\n",
    "conf.set('spark.driver.memory', '8g')\n",
    "# conf.set(\"spark.sql.files.maxPartitionBytes\", 1024*1024*12)\n",
    "\n",
    "sc = SparkContext.getOrCreate(conf=conf)\n",
    "spark = SparkSession(sc)\n",
    "\n",
    "flights = spark.read.parquet(\"flights_paritioned_year_month\")\n",
    "flights.persist()\n",
    "\n"
   ]
  },
  {
   "cell_type": "code",
   "execution_count": 3,
   "metadata": {},
   "outputs": [],
   "source": [
    "\n",
    "\n",
    "flights.registerTempTable(\"flights\")\n",
    "sql = \"\"\"\n",
    "SELECT distance, origin, dest\n",
    "FROM flights\n",
    "ORDER BY distance DESC\n",
    "\"\"\"\n",
    "\n",
    "flights_sorted = spark.sql(sql)\n",
    "\n",
    "flights_sorted.write.mode(\"overwrite\").parquet(\"deletelax\")"
   ]
  },
  {
   "cell_type": "code",
   "execution_count": null,
   "metadata": {},
   "outputs": [],
   "source": []
  },
  {
   "cell_type": "code",
   "execution_count": null,
   "metadata": {},
   "outputs": [],
   "source": []
  }
 ],
 "metadata": {
  "kernelspec": {
   "display_name": "Python 3",
   "language": "python",
   "name": "python3"
  },
  "language_info": {
   "codemirror_mode": {
    "name": "ipython",
    "version": 3
   },
   "file_extension": ".py",
   "mimetype": "text/x-python",
   "name": "python",
   "nbconvert_exporter": "python",
   "pygments_lexer": "ipython3",
   "version": "3.6.9"
  }
 },
 "nbformat": 4,
 "nbformat_minor": 4
}